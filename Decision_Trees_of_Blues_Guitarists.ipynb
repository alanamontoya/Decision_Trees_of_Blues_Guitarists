{
 "cells": [
  {
   "cell_type": "markdown",
   "id": "dc2442f2",
   "metadata": {},
   "source": [
    "## Problem:\n",
    "\n",
    "In this exercise you will work with the Blues Guitarists Hand Posture and Thumbing Style by Region and Birth Period data, which you can download from here  Download here. This dataset has 93 entries of various blues guitarists born between 1874 and 1940. Apart from the name of the guitarists, that dataset contains the following four features:\n",
    "\n",
    "_Regions_: 1 means East, 2 means Delta, 3 means Texas\n",
    "\n",
    "_Years_: 0 for those born before 1906, 1 for the rest\n",
    "\n",
    "_Hand postures_: 1= Extended, 2= Stacked, 3=Lutiform\n",
    "\n",
    "_Thumb styles_: Between 1 and 3, 1=Alternating, 2=Utility, 3=Dead\n",
    "\n",
    "Using decision tree on this dataset, how accurately you can tell their birth year from their hand postures and thumb styles. How does it affect the evaluation when you include the region while training the model? Now do the same using random forest (on both the above cases) and report the difference.\n",
    "\n",
    "Make sure to use appropriate training-testing parameters for your evaluation. You should also run the algorithms multiple times, measure various accuracies, and report the average (and perhaps the range and variance).\n",
    "\n",
    "***\n",
    "\n",
    "_First we need to import `pandas`, `tree`, `cross_validate`, `tree`, `ensemble`, `pyplot`, and `KFold`._"
   ]
  },
  {
   "cell_type": "code",
   "execution_count": 1,
   "id": "7a8f8331",
   "metadata": {},
   "outputs": [],
   "source": [
    "import pandas as pd\n",
    "import numpy as np\n",
    "from sklearn.model_selection import cross_validate\n",
    "from sklearn import tree\n",
    "from sklearn import ensemble\n",
    "import matplotlib.pyplot as plt\n",
    "from sklearn.model_selection import KFold"
   ]
  },
  {
   "cell_type": "markdown",
   "id": "c36e3f0d",
   "metadata": {},
   "source": [
    "_Now we can load in the `blues_hand` dataset:_"
   ]
  },
  {
   "cell_type": "code",
   "execution_count": 2,
   "id": "3c64c708",
   "metadata": {},
   "outputs": [],
   "source": [
    "bh_df = pd.read_csv(\"blues_hand.csv\")"
   ]
  },
  {
   "cell_type": "markdown",
   "id": "7f7b799a",
   "metadata": {},
   "source": [
    "_Then we can seperate the variables into features and labels for each of the cases. In the first case the features will include hand postures and thumb styles (indicated by `features1`). In the second case the features will include hand postures, thumb styles, and region (indicated by `features2`). In both cases the label will be the birth year (indicated by `label`)._"
   ]
  },
  {
   "cell_type": "code",
   "execution_count": 3,
   "id": "592d37ee",
   "metadata": {},
   "outputs": [],
   "source": [
    "features1 = bh_df.drop(\"name\", axis = 1).drop(\"state\", axis = 1).drop(\"brthYr\", axis = 1).drop(\"post1906\", axis = 1).drop(\"region\", axis = 1)\n",
    "features2 = bh_df.drop(\"name\", axis = 1).drop(\"state\", axis = 1).drop(\"brthYr\", axis = 1).drop(\"post1906\", axis = 1)\n",
    "label = bh_df[\"post1906\"]"
   ]
  },
  {
   "cell_type": "markdown",
   "id": "c5b0c35a",
   "metadata": {},
   "source": [
    "_Next, we need to determine what maximum depth should be used for each case in the desicion trees. So, we can build a funtion that takes in features and a label as parameters and plots how the accuracies vary based on the maximum depth._"
   ]
  },
  {
   "cell_type": "code",
   "execution_count": 4,
   "id": "bfd6e1a4",
   "metadata": {},
   "outputs": [],
   "source": [
    "# Function for ploting the  \n",
    "def plot_dt_max_depth_acc(features, label):\n",
    "    \n",
    "    # Create lists to track the maximum depths and respective accuracies of the test and train data\n",
    "    max_depth = []\n",
    "    train_max_depth_acc = []\n",
    "    test_max_depth_acc = []\n",
    "    \n",
    "    # Iterate through the maximum depth from 1 to 10\n",
    "    for i in range (1, 11):\n",
    "        \n",
    "        # Add the current maximum depth to the `max_depth` list\n",
    "        max_depth.append(i)\n",
    "        \n",
    "        # Build the DecisionTreeClassifier model and set the max_depth to the given value of i in the iteration and\n",
    "        # indicate to choose parameters based on the largest expected “information gain” (impurity/entropy)\n",
    "        d_tree = tree.DecisionTreeClassifier(max_depth = i, criterion = \"entropy\")\n",
    "        \n",
    "        # Measure the accuracy of the model\n",
    "        cross_val = cross_validate(d_tree, features, label, cv = 5, return_train_score = True)\n",
    "        \n",
    "        # Find the accuracy scores given the indicated maximum depth\n",
    "        train_scores = cross_val['train_score']\n",
    "        test_scores = cross_val['test_score']\n",
    "    \n",
    "        # Find the average accuracy scores given the indicated maximum depth and add them to their respective lists\n",
    "        train_max_depth_acc.append(np.mean(train_scores))\n",
    "        test_max_depth_acc.append(np.mean(test_scores))\n",
    "    \n",
    "    # Add the lists to a dictionary\n",
    "    data = {'max_depth' : max_depth,\n",
    "            'train_max_depth_acc' : train_max_depth_acc,\n",
    "            'test_max_depth_acc' : test_max_depth_acc}\n",
    "    \n",
    "    # Turn the `data` dictionary into a dataframe\n",
    "    df_max_depth_acc = pd.DataFrame(data)\n",
    "    \n",
    "    # Plot the dataframe\n",
    "    plt.plot(max_depth, train_max_depth_acc, color = 'red', marker = 'o')\n",
    "    plt.plot(max_depth, test_max_depth_acc, color = 'blue', marker = 'o')\n",
    "    plt.grid(True)\n",
    "    plt.title('Decision Tree Depth Accuracies')\n",
    "    plt.xlabel('Maximum Decision Tree Depth')\n",
    "    plt.ylabel('Accuracy')\n",
    "    plt.show()"
   ]
  },
  {
   "cell_type": "markdown",
   "id": "5a642bcc",
   "metadata": {},
   "source": [
    "_Now we can apply this function using `features1` to determine the decision tree depth for the first case._"
   ]
  },
  {
   "cell_type": "code",
   "execution_count": 5,
   "id": "0d9ab3f2",
   "metadata": {},
   "outputs": [
    {
     "data": {
      "image/png": "[encoded data removed]",
      "text/plain": [
       "<Figure size 432x288 with 1 Axes>"
      ]
     },
     "metadata": {
      "needs_background": "light"
     },
     "output_type": "display_data"
    }
   ],
   "source": [
    "plot_dt_max_depth_acc(features1, label)"
   ]
  },
  {
   "cell_type": "markdown",
   "id": "9e5dab17",
   "metadata": {},
   "source": [
    "_From this plot we can see that the accuracy stablizes when the maximum decision tree depth is 4, meaning that this is a good value to use as the maximum decision tree depth for the first case. Hence, we can assign this to a variable to use going forward._"
   ]
  },
  {
   "cell_type": "code",
   "execution_count": 6,
   "id": "5ac8b431",
   "metadata": {},
   "outputs": [],
   "source": [
    "case_1_dt_max_depth = 4"
   ]
  },
  {
   "cell_type": "markdown",
   "id": "db72c9b2",
   "metadata": {},
   "source": [
    "_Then we can apply the `plot_dt_max_depth_acc` function using `features2` to determine the decision tree depth for the second case._"
   ]
  },
  {
   "cell_type": "code",
   "execution_count": 7,
   "id": "32ea7b09",
   "metadata": {},
   "outputs": [
    {
     "data": {
      "image/png": "[encoded data removed]",
      "text/plain": [
       "<Figure size 432x288 with 1 Axes>"
      ]
     },
     "metadata": {
      "needs_background": "light"
     },
     "output_type": "display_data"
    }
   ],
   "source": [
    "plot_dt_max_depth_acc(features2, label)"
   ]
  },
  {
   "cell_type": "markdown",
   "id": "61579cdc",
   "metadata": {},
   "source": [
    "_From this plot we can see that the accuracy stablizes when the maximum decision tree depth is 6, meaning that this is a good value to use as the maximum decision tree depth for the second case. Hence, we can assign this to a variable to use going forward._"
   ]
  },
  {
   "cell_type": "code",
   "execution_count": 8,
   "id": "cd674034",
   "metadata": {},
   "outputs": [],
   "source": [
    "case_2_dt_max_depth = 6"
   ]
  },
  {
   "cell_type": "markdown",
   "id": "0497bb46",
   "metadata": {},
   "source": [
    "_Next we can build a `get_avg_dt_accuracy` function to find the average accuracy of a decision tree over many iterations. This function will take in as an input `max_depth` to indicate what maximum decision tree depth to use, `n` number of times to iterate through the process of using cross-validation and finding the accuracies of the testing and training data, `features` to represent which variables to be included as features, and `label` to indicate which variable to be included as the label. The function will keep track of the running total of all the accuracies, minimum and maximum accuracies, and the variances. At the end, the function will return the average accuracy, minimum and maximum accuracies, and average accuracy variance of the decision trees for all `n` iterations._\n",
    "\n",
    "> _Note: to further understand how to implement cross-validation __[this](https://machinelearningmastery.com/how-to-configure-k-fold-cross-validation/)__ source was used._"
   ]
  },
  {
   "cell_type": "code",
   "execution_count": 9,
   "id": "dd866057",
   "metadata": {},
   "outputs": [],
   "source": [
    "# Function for finding the average accuracy of decision trees\n",
    "def get_avg_dt_accuracy(max_depth, n, features, label):\n",
    "\n",
    "    # Build the DecisionTreeClassifier model and set the max_depth to the given parameter (max_depth) and indicate to\n",
    "    # choose parameters based on the largest expected “information gain” (impurity/entropy)\n",
    "    d_tree = tree.DecisionTreeClassifier(max_depth = max_depth, criterion = \"entropy\")\n",
    "    \n",
    "    # Set the total training and testing accuracy to be 0\n",
    "    train_tot_acc = 0\n",
    "    test_tot_acc = 0\n",
    "    \n",
    "    # Set the placeholders for minimum and maximum accuracies\n",
    "    min_train_score = 2\n",
    "    max_train_score = -1\n",
    "    min_test_score = 2\n",
    "    max_test_score = -1\n",
    "    \n",
    "    # Set the total training and testing variances to be 0\n",
    "    train_tot_var = 0\n",
    "    test_tot_var = 0\n",
    "    \n",
    "    # Iterate through process n number of times\n",
    "    for i in range(0, n):\n",
    "        \n",
    "        # Set up k-fold cross-validation to split the data randomly into 5 \"chunks\"\n",
    "        kf = KFold(n_splits=5, shuffle = True)\n",
    "\n",
    "        # Measure the accuracy of the model in the iteration\n",
    "        cross_val = cross_validate(d_tree, features, label, cv = kf, return_train_score = True)\n",
    "        \n",
    "        # Find the accuracy scores in the iteration\n",
    "        train_scores = cross_val['train_score']\n",
    "        test_scores = cross_val['test_score']\n",
    "        \n",
    "        # Find the average accuracy scores in the iteration\n",
    "        train_acc = np.mean(train_scores)\n",
    "        test_acc = np.mean(test_scores)\n",
    "        \n",
    "        # Add the average accuracy score in the iteration to the total accuracy score\n",
    "        train_tot_acc = train_tot_acc + train_acc\n",
    "        test_tot_acc = test_tot_acc + test_acc\n",
    "        \n",
    "        # Find minimum and maximum of accuracy scores in the iteration\n",
    "        if (min_train_score >  min(train_scores)):\n",
    "            min_train_score = min(train_scores)\n",
    "        if (max_train_score < max(train_scores)):\n",
    "            max_train_score = max(train_scores)\n",
    "        if (min_test_score > min(test_scores)):\n",
    "            min_test_score = min(test_scores)\n",
    "        if (max_test_score < max(test_scores)):\n",
    "            max_test_score = max(test_scores)\n",
    "        \n",
    "        # Find the standard deviations in the iteration\n",
    "        train_std = np.std(train_scores)\n",
    "        test_std = np.std(test_scores)\n",
    "        \n",
    "        # Find the variances in the iteration\n",
    "        train_var = train_std * train_std\n",
    "        test_var = test_std * test_std\n",
    "        \n",
    "        # Add the variances in the iteration to the total variance\n",
    "        train_tot_var = train_tot_var + train_var\n",
    "        test_tot_var = test_tot_var + test_var\n",
    "    \n",
    "    # Find the average accuracy of all the iterations\n",
    "    train_avg_acc = (train_tot_acc/n)\n",
    "    test_avg_acc = (test_tot_acc/n)\n",
    "    \n",
    "    # Find the accuracy range of all the iterations\n",
    "    train_acc_range = max_train_score - min_train_score\n",
    "    test_acc_range = max_test_score - min_test_score\n",
    "    \n",
    "    # Find the average variance of all the iterations\n",
    "    train_avg_var = (train_tot_var/n)\n",
    "    test_avg_var = (test_tot_var/n)\n",
    "    \n",
    "    # Add the variables to a dictionary\n",
    "    data = {'Train Average Accuracy' : train_avg_acc, 'Train Accuracy Range' : train_acc_range,\n",
    "            'Train Average Variance' : train_avg_var,\n",
    "            'Test Average Accuracy' : test_avg_acc, 'Test Accuracy Range' : test_acc_range,\n",
    "            'Test Average Variance' : test_avg_var}\n",
    "    \n",
    "    # Turn the `data` dictionary into a dataframe\n",
    "    df_dt_metrics = pd.DataFrame([data])\n",
    "    \n",
    "    # Return the dataframe\n",
    "    return(df_dt_metrics)"
   ]
  },
  {
   "cell_type": "markdown",
   "id": "357e568f",
   "metadata": {},
   "source": [
    "_Next, we can build the same function but for random forests._"
   ]
  },
  {
   "cell_type": "code",
   "execution_count": 10,
   "id": "cdfe3592",
   "metadata": {},
   "outputs": [],
   "source": [
    "# Function for finding the average accuracy of random forests\n",
    "def get_avg_rf_accuracy(max_depth, n, features, label):\n",
    "\n",
    "    # Build the RandomForestClassifier model and set the max_depth to the given parameter (max_depth) and indicate to\n",
    "    # choose parameters in the decision trees based on the largest expected “information gain” (impurity/entropy)\n",
    "    r_forest = ensemble.RandomForestClassifier(max_depth = max_depth, criterion = \"entropy\")\n",
    "    \n",
    "    # Set the total training and testing accuracy to be 0\n",
    "    train_tot_acc = 0\n",
    "    test_tot_acc = 0\n",
    "    \n",
    "    # Set the placeholders for minimum and maximum accuracies\n",
    "    min_train_score = 2\n",
    "    max_train_score = -1\n",
    "    min_test_score = 2\n",
    "    max_test_score = -1\n",
    "    \n",
    "    # Set the total training and testing variances to be 0\n",
    "    train_tot_var = 0\n",
    "    test_tot_var = 0\n",
    "    \n",
    "    # Iterate through process n number of times\n",
    "    for i in range(0, n):\n",
    "        \n",
    "        # Set up k-fold cross-validation to split the data randomly into 5 \"chunks\"\n",
    "        kf = KFold(n_splits=5, shuffle = True)\n",
    "        \n",
    "        # Measure the accuracy of the model in the iteration\n",
    "        cross_val = cross_validate(r_forest, features, label, cv = kf, return_train_score = True)\n",
    "        \n",
    "        # Find the accuracy scores in the iteration\n",
    "        train_scores = cross_val['train_score']\n",
    "        test_scores = cross_val['test_score']\n",
    "        \n",
    "        # Find the average accuracy scores in the iteration\n",
    "        train_acc = np.mean(train_scores)\n",
    "        test_acc = np.mean(test_scores)\n",
    "        \n",
    "        # Add the average accuracy score in the iteration to the total accuracy score\n",
    "        train_tot_acc = train_tot_acc + train_acc\n",
    "        test_tot_acc = test_tot_acc + test_acc\n",
    "        \n",
    "        # Find minimum and maximum of accuracy scores in the iteration\n",
    "        if (min_train_score >  min(train_scores)):\n",
    "            min_train_score = min(train_scores)\n",
    "        if (max_train_score < max(train_scores)):\n",
    "            max_train_score = max(train_scores)\n",
    "        if (min_test_score > min(test_scores)):\n",
    "            min_test_score = min(test_scores)\n",
    "        if (max_test_score < max(test_scores)):\n",
    "            max_test_score = max(test_scores)\n",
    "        \n",
    "        # Find the standard deviations in the iteration\n",
    "        train_std = np.std(train_scores)\n",
    "        test_std = np.std(test_scores)\n",
    "        \n",
    "        # Find the variances in the iteration\n",
    "        train_var = train_std * train_std\n",
    "        test_var = test_std * test_std\n",
    "        \n",
    "        # Add the variances in the iteration to the total variance\n",
    "        train_tot_var = train_tot_var + train_var\n",
    "        test_tot_var = test_tot_var + test_var\n",
    "    \n",
    "    # Find the average accuracy of all the iterations\n",
    "    train_avg_acc = (train_tot_acc/n)\n",
    "    test_avg_acc = (test_tot_acc/n)\n",
    "    \n",
    "    # Find the accuracy range of all the iterations\n",
    "    train_acc_range = max_train_score - min_train_score\n",
    "    test_acc_range = max_test_score - min_test_score\n",
    "    \n",
    "    # Find the average variance of all the iterations\n",
    "    train_avg_var = (train_tot_var/n)\n",
    "    test_avg_var = (test_tot_var/n)\n",
    "    \n",
    "    # Add the variables to a dictionary\n",
    "    data = {'Train Average Accuracy' : train_avg_acc, 'Train Accuracy Range' : train_acc_range,\n",
    "            'Train Average Variance' : train_avg_var,\n",
    "            'Test Average Accuracy' : test_avg_acc, 'Test Accuracy Range' : test_acc_range,\n",
    "            'Test Average Variance' : test_avg_var}\n",
    "    \n",
    "    # Turn the `data` dictionary into a dataframe\n",
    "    df_rf_metrics = pd.DataFrame([data])\n",
    "    \n",
    "    # Return the dataframe\n",
    "    return(df_rf_metrics)"
   ]
  },
  {
   "cell_type": "markdown",
   "id": "538ddf80",
   "metadata": {},
   "source": [
    "_Now we can use these functions to examine the accuracies across both cases and both model types._\n",
    "\n",
    "### Decision Tree Case 1:\n",
    "\n",
    "Using decision trees on this dataset, how accurately you can tell their birth year from their hand postures and thumb styles?\n",
    "\n",
    "_For this question, we will use the `get_avg_dt_accuracy()` function to assess the accuracy of the decision trees. We will perform 200 iterations using 4 as the maximum decision tree depth (indicated by `case_1_dt_max_depth`), hand postures and thumb styles as the features (indicated by `features1`) and the categorical year variable as the label (indicated by `label`)._"
   ]
  },
  {
   "cell_type": "code",
   "execution_count": 11,
   "id": "28ccc099",
   "metadata": {},
   "outputs": [
    {
     "data": {
      "text/html": [
       "<div>\n",
       "<style scoped>\n",
       "    .dataframe tbody tr th:only-of-type {\n",
       "        vertical-align: middle;\n",
       "    }\n",
       "\n",
       "    .dataframe tbody tr th {\n",
       "        vertical-align: top;\n",
       "    }\n",
       "\n",
       "    .dataframe thead th {\n",
       "        text-align: right;\n",
       "    }\n",
       "</style>\n",
       "<table border=\"1\" class=\"dataframe\">\n",
       "  <thead>\n",
       "    <tr style=\"text-align: right;\">\n",
       "      <th></th>\n",
       "      <th>Train Average Accuracy</th>\n",
       "      <th>Train Accuracy Range</th>\n",
       "      <th>Train Average Variance</th>\n",
       "      <th>Test Average Accuracy</th>\n",
       "      <th>Test Accuracy Range</th>\n",
       "      <th>Test Average Variance</th>\n",
       "    </tr>\n",
       "  </thead>\n",
       "  <tbody>\n",
       "    <tr>\n",
       "      <th>0</th>\n",
       "      <td>0.665885</td>\n",
       "      <td>0.125225</td>\n",
       "      <td>0.000503</td>\n",
       "      <td>0.564056</td>\n",
       "      <td>0.631579</td>\n",
       "      <td>0.008521</td>\n",
       "    </tr>\n",
       "  </tbody>\n",
       "</table>\n",
       "</div>"
      ],
      "text/plain": [
       "   Train Average Accuracy  Train Accuracy Range  Train Average Variance  \\\n",
       "0                0.665885              0.125225                0.000503   \n",
       "\n",
       "   Test Average Accuracy  Test Accuracy Range  Test Average Variance  \n",
       "0               0.564056             0.631579               0.008521  "
      ]
     },
     "execution_count": 11,
     "metadata": {},
     "output_type": "execute_result"
    }
   ],
   "source": [
    "get_avg_dt_accuracy(case_1_dt_max_depth, 200, features1, label)"
   ]
  },
  {
   "cell_type": "markdown",
   "id": "962f83ad",
   "metadata": {},
   "source": [
    "### Decision Tree Case 2:\n",
    "\n",
    "Using decision trees on this dataset, how accurately you can tell their birth year from their hand postures, thumb styles, and region?\n",
    "\n",
    "_For this question, we will use the `get_avg_dt_accuracy()` function to assess the accuracy of the decision trees. We will perform 200 iterations using 6 as the maximum decision tree depth (indicated by `case_2_dt_max_depth`), hand postures, thumb styles, and region as the features (indicated by `features2`) and the categorical year variable as the label (indicated by `label`)._"
   ]
  },
  {
   "cell_type": "code",
   "execution_count": 12,
   "id": "92f35ae2",
   "metadata": {},
   "outputs": [
    {
     "data": {
      "text/html": [
       "<div>\n",
       "<style scoped>\n",
       "    .dataframe tbody tr th:only-of-type {\n",
       "        vertical-align: middle;\n",
       "    }\n",
       "\n",
       "    .dataframe tbody tr th {\n",
       "        vertical-align: top;\n",
       "    }\n",
       "\n",
       "    .dataframe thead th {\n",
       "        text-align: right;\n",
       "    }\n",
       "</style>\n",
       "<table border=\"1\" class=\"dataframe\">\n",
       "  <thead>\n",
       "    <tr style=\"text-align: right;\">\n",
       "      <th></th>\n",
       "      <th>Train Average Accuracy</th>\n",
       "      <th>Train Accuracy Range</th>\n",
       "      <th>Train Average Variance</th>\n",
       "      <th>Test Average Accuracy</th>\n",
       "      <th>Test Accuracy Range</th>\n",
       "      <th>Test Average Variance</th>\n",
       "    </tr>\n",
       "  </thead>\n",
       "  <tbody>\n",
       "    <tr>\n",
       "      <th>0</th>\n",
       "      <td>0.728834</td>\n",
       "      <td>0.148649</td>\n",
       "      <td>0.000433</td>\n",
       "      <td>0.534731</td>\n",
       "      <td>0.684211</td>\n",
       "      <td>0.008282</td>\n",
       "    </tr>\n",
       "  </tbody>\n",
       "</table>\n",
       "</div>"
      ],
      "text/plain": [
       "   Train Average Accuracy  Train Accuracy Range  Train Average Variance  \\\n",
       "0                0.728834              0.148649                0.000433   \n",
       "\n",
       "   Test Average Accuracy  Test Accuracy Range  Test Average Variance  \n",
       "0               0.534731             0.684211               0.008282  "
      ]
     },
     "execution_count": 12,
     "metadata": {},
     "output_type": "execute_result"
    }
   ],
   "source": [
    "get_avg_dt_accuracy(case_2_dt_max_depth, 200, features2, label)"
   ]
  },
  {
   "cell_type": "markdown",
   "id": "93305fb3",
   "metadata": {},
   "source": [
    "### Random Forest Case 1:\n",
    "\n",
    "Using random forests on this dataset, how accurately you can tell their birth year from their hand postures and thumb styles?\n",
    "\n",
    "_For this question, we will use the `get_avg_rf_accuracy()` function to assess the accuracy of the random forests. We will perform 10 iterations using 4 as the maximum decision tree depth (indicated by `case_1_dt_max_depth`), hand postures and thumb styles as the features (indicated by `features1`) and the categorical year variable as the label (indicated by `label`)._"
   ]
  },
  {
   "cell_type": "code",
   "execution_count": 13,
   "id": "530a6022",
   "metadata": {},
   "outputs": [
    {
     "data": {
      "text/html": [
       "<div>\n",
       "<style scoped>\n",
       "    .dataframe tbody tr th:only-of-type {\n",
       "        vertical-align: middle;\n",
       "    }\n",
       "\n",
       "    .dataframe tbody tr th {\n",
       "        vertical-align: top;\n",
       "    }\n",
       "\n",
       "    .dataframe thead th {\n",
       "        text-align: right;\n",
       "    }\n",
       "</style>\n",
       "<table border=\"1\" class=\"dataframe\">\n",
       "  <thead>\n",
       "    <tr style=\"text-align: right;\">\n",
       "      <th></th>\n",
       "      <th>Train Average Accuracy</th>\n",
       "      <th>Train Accuracy Range</th>\n",
       "      <th>Train Average Variance</th>\n",
       "      <th>Test Average Accuracy</th>\n",
       "      <th>Test Accuracy Range</th>\n",
       "      <th>Test Average Variance</th>\n",
       "    </tr>\n",
       "  </thead>\n",
       "  <tbody>\n",
       "    <tr>\n",
       "      <th>0</th>\n",
       "      <td>0.665085</td>\n",
       "      <td>0.098559</td>\n",
       "      <td>0.000499</td>\n",
       "      <td>0.59269</td>\n",
       "      <td>0.564327</td>\n",
       "      <td>0.009842</td>\n",
       "    </tr>\n",
       "  </tbody>\n",
       "</table>\n",
       "</div>"
      ],
      "text/plain": [
       "   Train Average Accuracy  Train Accuracy Range  Train Average Variance  \\\n",
       "0                0.665085              0.098559                0.000499   \n",
       "\n",
       "   Test Average Accuracy  Test Accuracy Range  Test Average Variance  \n",
       "0                0.59269             0.564327               0.009842  "
      ]
     },
     "execution_count": 13,
     "metadata": {},
     "output_type": "execute_result"
    }
   ],
   "source": [
    "get_avg_rf_accuracy(case_1_dt_max_depth, 10, features1, label)"
   ]
  },
  {
   "cell_type": "markdown",
   "id": "4f19b06b",
   "metadata": {},
   "source": [
    "### Random Forest Case 2:\n",
    "\n",
    "Using random forests on this dataset, how accurately you can tell their birth year from their hand postures, thumb styles, and region?\n",
    "\n",
    "_For this question, we will use the `get_avg_rf_accuracy()` function to assess the accuracy of the random forests. We will perform 10 iterations using 6 as the maximum decision tree depth (indicated by `case_2_dt_max_depth`), hand postures, thumb styles, and region as the features (indicated by `features2`) and the categorical year variable as the label (indicated by `label`)._"
   ]
  },
  {
   "cell_type": "code",
   "execution_count": 14,
   "id": "26a35bf3",
   "metadata": {},
   "outputs": [
    {
     "data": {
      "text/html": [
       "<div>\n",
       "<style scoped>\n",
       "    .dataframe tbody tr th:only-of-type {\n",
       "        vertical-align: middle;\n",
       "    }\n",
       "\n",
       "    .dataframe tbody tr th {\n",
       "        vertical-align: top;\n",
       "    }\n",
       "\n",
       "    .dataframe thead th {\n",
       "        text-align: right;\n",
       "    }\n",
       "</style>\n",
       "<table border=\"1\" class=\"dataframe\">\n",
       "  <thead>\n",
       "    <tr style=\"text-align: right;\">\n",
       "      <th></th>\n",
       "      <th>Train Average Accuracy</th>\n",
       "      <th>Train Accuracy Range</th>\n",
       "      <th>Train Average Variance</th>\n",
       "      <th>Test Average Accuracy</th>\n",
       "      <th>Test Accuracy Range</th>\n",
       "      <th>Test Average Variance</th>\n",
       "    </tr>\n",
       "  </thead>\n",
       "  <tbody>\n",
       "    <tr>\n",
       "      <th>0</th>\n",
       "      <td>0.726861</td>\n",
       "      <td>0.094595</td>\n",
       "      <td>0.000393</td>\n",
       "      <td>0.557427</td>\n",
       "      <td>0.347953</td>\n",
       "      <td>0.007357</td>\n",
       "    </tr>\n",
       "  </tbody>\n",
       "</table>\n",
       "</div>"
      ],
      "text/plain": [
       "   Train Average Accuracy  Train Accuracy Range  Train Average Variance  \\\n",
       "0                0.726861              0.094595                0.000393   \n",
       "\n",
       "   Test Average Accuracy  Test Accuracy Range  Test Average Variance  \n",
       "0               0.557427             0.347953               0.007357  "
      ]
     },
     "execution_count": 14,
     "metadata": {},
     "output_type": "execute_result"
    }
   ],
   "source": [
    "get_avg_rf_accuracy(case_2_dt_max_depth, 10, features2, label)"
   ]
  },
  {
   "cell_type": "markdown",
   "id": "90549fd5",
   "metadata": {},
   "source": [
    "## Summary:\n",
    "\n",
    "_From these outputs we can see that when using hand postures, thumb styles, and region as features (case 2), higher training accuracies were produced in both the decision trees and random forests compared to expluding region from the features (case 1). However, using just hand postures and thumb styles as features (case 1) resulted in slightly higher testing accuracies in both the decision trees and random forests. Since the testing accuracies matters more in determining future unseen data, using hand postures and thumb styles as features (case 1) should be used going forward. Additionally, when comparing whether to use decision trees or random forest, we can see that random forests had higher accuracies than decision trees, thus meaning random forests should be used._\n",
    "\n",
    "_Hence, based on accuracies, **the best model to use would be a random forest that uses just hand postures and thumb styles as features**._"
   ]
  }
 ],
 "metadata": {
  "kernelspec": {
   "display_name": "Python 3",
   "language": "python",
   "name": "python3"
  },
  "language_info": {
   "codemirror_mode": {
    "name": "ipython",
    "version": 3
   },
   "file_extension": ".py",
   "mimetype": "text/x-python",
   "name": "python",
   "nbconvert_exporter": "python",
   "pygments_lexer": "ipython3",
   "version": "3.6.13"
  }
 },
 "nbformat": 4,
 "nbformat_minor": 5
}
